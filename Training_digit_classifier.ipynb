{
  "nbformat": 4,
  "nbformat_minor": 0,
  "metadata": {
    "colab": {
      "provenance": [],
      "authorship_tag": "ABX9TyMkkqzgqeTXEhvn/t8eZy/i"
    },
    "kernelspec": {
      "name": "python3",
      "display_name": "Python 3"
    },
    "language_info": {
      "name": "python"
    }
  },
  "cells": [
    {
      "cell_type": "code",
      "execution_count": 1,
      "metadata": {
        "id": "8LuMNDIRRAr-"
      },
      "outputs": [],
      "source": [
        "#@ for preventing issues in loading notebook:\n",
        "%reload_ext autoreload\n",
        "%autoreload 2\n",
        "%matplotlib inline"
      ]
    },
    {
      "cell_type": "code",
      "source": [
        "#@ Necessaries dependencies:\n",
        "!pip install -Uqq fastbook\n",
        "import fastbook\n",
        "fastbook.setup_book()"
      ],
      "metadata": {
        "colab": {
          "base_uri": "https://localhost:8080/"
        },
        "id": "ruKNCIz8Renc",
        "outputId": "a1b984bd-61b0-4048-87f2-3cc620ce263a"
      },
      "execution_count": 2,
      "outputs": [
        {
          "output_type": "stream",
          "name": "stdout",
          "text": [
            "\u001b[?25l   \u001b[90m━━━━━━━━━━━━━━━━━━━━━━━━━━━━━━━━━━━━━━━━\u001b[0m \u001b[32m0.0/719.8 kB\u001b[0m \u001b[31m?\u001b[0m eta \u001b[36m-:--:--\u001b[0m\r\u001b[2K   \u001b[91m━━━━━━━━━━━━━━━━━━━\u001b[0m\u001b[90m╺\u001b[0m\u001b[90m━━━━━━━━━━━━━━━━━━━━\u001b[0m \u001b[32m348.2/719.8 kB\u001b[0m \u001b[31m11.0 MB/s\u001b[0m eta \u001b[36m0:00:01\u001b[0m\r\u001b[2K   \u001b[90m━━━━━━━━━━━━━━━━━━━━━━━━━━━━━━━━━━━━━━━━\u001b[0m \u001b[32m719.8/719.8 kB\u001b[0m \u001b[31m12.3 MB/s\u001b[0m eta \u001b[36m0:00:00\u001b[0m\n",
            "\u001b[?25h\u001b[?25l   \u001b[90m━━━━━━━━━━━━━━━━━━━━━━━━━━━━━━━━━━━━━━━━\u001b[0m \u001b[32m0.0/480.6 kB\u001b[0m \u001b[31m?\u001b[0m eta \u001b[36m-:--:--\u001b[0m\r\u001b[2K   \u001b[90m━━━━━━━━━━━━━━━━━━━━━━━━━━━━━━━━━━━━━━━━\u001b[0m \u001b[32m480.6/480.6 kB\u001b[0m \u001b[31m26.1 MB/s\u001b[0m eta \u001b[36m0:00:00\u001b[0m\n",
            "\u001b[2K   \u001b[90m━━━━━━━━━━━━━━━━━━━━━━━━━━━━━━━━━━━━━━━━\u001b[0m \u001b[32m116.3/116.3 kB\u001b[0m \u001b[31m7.8 MB/s\u001b[0m eta \u001b[36m0:00:00\u001b[0m\n",
            "\u001b[2K   \u001b[90m━━━━━━━━━━━━━━━━━━━━━━━━━━━━━━━━━━━━━━━━\u001b[0m \u001b[32m179.3/179.3 kB\u001b[0m \u001b[31m13.9 MB/s\u001b[0m eta \u001b[36m0:00:00\u001b[0m\n",
            "\u001b[2K   \u001b[90m━━━━━━━━━━━━━━━━━━━━━━━━━━━━━━━━━━━━━━━━\u001b[0m \u001b[32m134.8/134.8 kB\u001b[0m \u001b[31m8.9 MB/s\u001b[0m eta \u001b[36m0:00:00\u001b[0m\n",
            "\u001b[2K   \u001b[90m━━━━━━━━━━━━━━━━━━━━━━━━━━━━━━━━━━━━━━━━\u001b[0m \u001b[32m194.1/194.1 kB\u001b[0m \u001b[31m11.9 MB/s\u001b[0m eta \u001b[36m0:00:00\u001b[0m\n",
            "\u001b[2K   \u001b[90m━━━━━━━━━━━━━━━━━━━━━━━━━━━━━━━━━━━━━━━━\u001b[0m \u001b[32m1.6/1.6 MB\u001b[0m \u001b[31m42.9 MB/s\u001b[0m eta \u001b[36m0:00:00\u001b[0m\n",
            "\u001b[?25h\u001b[31mERROR: pip's dependency resolver does not currently take into account all the packages that are installed. This behaviour is the source of the following dependency conflicts.\n",
            "gcsfs 2024.10.0 requires fsspec==2024.10.0, but you have fsspec 2024.9.0 which is incompatible.\u001b[0m\u001b[31m\n",
            "\u001b[0mMounted at /content/gdrive\n"
          ]
        }
      ]
    },
    {
      "cell_type": "code",
      "source": [
        "from fastai.vision import *\n",
        "from fastbook import *\n",
        "matplotlib.rc(\"image\", cmap=\"Greys\")"
      ],
      "metadata": {
        "id": "Uz74YW9BR5iM"
      },
      "execution_count": 3,
      "outputs": []
    },
    {
      "cell_type": "code",
      "source": [
        "#@ Getting dataset:\n",
        "path=untar_data(URLs.MNIST_SAMPLE)"
      ],
      "metadata": {
        "colab": {
          "base_uri": "https://localhost:8080/",
          "height": 37
        },
        "id": "rdxCRnLcSKUs",
        "outputId": "10cfdf44-002f-41ac-90a1-95b51f7bac66"
      },
      "execution_count": 4,
      "outputs": [
        {
          "output_type": "display_data",
          "data": {
            "text/plain": [
              "<IPython.core.display.HTML object>"
            ],
            "text/html": [
              "\n",
              "<style>\n",
              "    /* Turns off some styling */\n",
              "    progress {\n",
              "        /* gets rid of default border in Firefox and Opera. */\n",
              "        border: none;\n",
              "        /* Needs to be in here for Safari polyfill so background images work as expected. */\n",
              "        background-size: auto;\n",
              "    }\n",
              "    progress:not([value]), progress:not([value])::-webkit-progress-bar {\n",
              "        background: repeating-linear-gradient(45deg, #7e7e7e, #7e7e7e 10px, #5c5c5c 10px, #5c5c5c 20px);\n",
              "    }\n",
              "    .progress-bar-interrupted, .progress-bar-interrupted::-webkit-progress-bar {\n",
              "        background: #F44336;\n",
              "    }\n",
              "</style>\n"
            ]
          },
          "metadata": {}
        },
        {
          "output_type": "display_data",
          "data": {
            "text/plain": [
              "<IPython.core.display.HTML object>"
            ],
            "text/html": [
              "\n",
              "    <div>\n",
              "      <progress value='3219456' class='' max='3214948' style='width:300px; height:20px; vertical-align: middle;'></progress>\n",
              "      100.14% [3219456/3214948 00:00&lt;00:00]\n",
              "    </div>\n",
              "    "
            ]
          },
          "metadata": {}
        }
      ]
    },
    {
      "cell_type": "code",
      "source": [
        "path.ls()"
      ],
      "metadata": {
        "colab": {
          "base_uri": "https://localhost:8080/"
        },
        "id": "MulnSxCzShzb",
        "outputId": "18bb1e1c-d9c3-4d0f-a594-525527ea1000"
      },
      "execution_count": 5,
      "outputs": [
        {
          "output_type": "execute_result",
          "data": {
            "text/plain": [
              "(#3) [Path('/root/.fastai/data/mnist_sample/train'),Path('/root/.fastai/data/mnist_sample/labels.csv'),Path('/root/.fastai/data/mnist_sample/valid')]"
            ]
          },
          "metadata": {},
          "execution_count": 5
        }
      ]
    },
    {
      "cell_type": "code",
      "source": [
        "#@ accessing digit folders:\n",
        "sevens=(path/'train'/'7').ls().sorted()\n",
        "threes=(path/'train'/'3').ls().sorted()\n",
        "threes"
      ],
      "metadata": {
        "colab": {
          "base_uri": "https://localhost:8080/"
        },
        "id": "KhwC3dQhSqWk",
        "outputId": "19bbeb6d-fed1-4da7-d860-2282c1d4784e"
      },
      "execution_count": 12,
      "outputs": [
        {
          "output_type": "execute_result",
          "data": {
            "text/plain": [
              "(#6131) [Path('/root/.fastai/data/mnist_sample/train/3/10.png'),Path('/root/.fastai/data/mnist_sample/train/3/10000.png'),Path('/root/.fastai/data/mnist_sample/train/3/10011.png'),Path('/root/.fastai/data/mnist_sample/train/3/10031.png'),Path('/root/.fastai/data/mnist_sample/train/3/10034.png'),Path('/root/.fastai/data/mnist_sample/train/3/10042.png'),Path('/root/.fastai/data/mnist_sample/train/3/10052.png'),Path('/root/.fastai/data/mnist_sample/train/3/1007.png'),Path('/root/.fastai/data/mnist_sample/train/3/10074.png'),Path('/root/.fastai/data/mnist_sample/train/3/10091.png')...]"
            ]
          },
          "metadata": {},
          "execution_count": 12
        }
      ]
    },
    {
      "cell_type": "code",
      "source": [
        "#@ Viewing:\n",
        "img3_path=threes[1]\n",
        "img3=Image.open(img3_path) #from PIL\n",
        "img3"
      ],
      "metadata": {
        "colab": {
          "base_uri": "https://localhost:8080/",
          "height": 45
        },
        "id": "bUl8StbkTHPk",
        "outputId": "57d766b9-e57a-4c2b-d9f5-7830e61fc1a6"
      },
      "execution_count": 13,
      "outputs": [
        {
          "output_type": "execute_result",
          "data": {
            "text/plain": [
              "<PIL.PngImagePlugin.PngImageFile image mode=L size=28x28>"
            ],
            "image/png": "[encoded data removed]",
            "image/jpeg": "[encoded data removed]"
          },
          "metadata": {},
          "execution_count": 13
        }
      ]
    },
    {
      "cell_type": "code",
      "source": [
        "#@ Converting in numpy array:\n",
        "array(img3)"
      ],
      "metadata": {
        "colab": {
          "base_uri": "https://localhost:8080/",
          "height": 69
        },
        "id": "Uuh1EPMIThQF",
        "outputId": "f6bc209a-6ab3-4a18-b8e3-f2f8bee8a204"
      },
      "execution_count": 14,
      "outputs": [
        {
          "output_type": "execute_result",
          "data": {
            "text/plain": [
              "array([[  0,   0,   0,   0,   0,   0,   0,   0,   0,   0,   0,   0,   0,   0,   0,   0,   0,   0,   0,   0,   0,   0,   0,   0,   0,   0,   0,   0],\n",
              "       [  0,   0,   0,   0,   0,   0,   0,   0,   0,   0,   0,   0,   0,   0,   0,   0,   0,   0,   0,   0,   0,   0,   0,   0,   0,   0,   0,   0],\n",
              "       [  0,   0,   0,   0,   0,   0,   0,   0,   0,   0,   0,   0,   0,   0,   0,   0,   0,   0,   0,   0,   0,   0,   0,   0,   0,   0,   0,   0],\n",
              "       [  0,   0,   0,   0,   0,   0,   0,   0,   0,   0,   0,   0,   0,   0,   0,   0,   0,   0,   0,   0,   0,   0,   0,   0,   0,   0,   0,   0],\n",
              "       [  0,   0,   0,   0,   0,   0,   0,   0,   0,   0,   0,   0,   0,   0,   0,   0,   0,   0,   0,   0,   0,   0,   0,   0,   0,   0,   0,   0],\n",
              "       [  0,   0,   0,   0,   0,   0,   0,   0,   0,  29, 150, 195, 254, 255, 254, 176, 193, 150,  96,   0,   0,   0,   0,   0,   0,   0,   0,   0],\n",
              "       [  0,   0,   0,   0,   0,   0,   0,  48, 166, 224, 253, 253, 234, 196, 253, 253, 253, 253, 233,   0,   0,   0,   0,   0,   0,   0,   0,   0],\n",
              "       [  0,   0,   0,   0,   0,  93, 244, 249, 253, 187,  46,  10,   8,   4,  10, 194, 253, 253, 233,   0,   0,   0,   0,   0,   0,   0,   0,   0],\n",
              "       [  0,   0,   0,   0,   0, 107, 253, 253, 230,  48,   0,   0,   0,   0,   0, 192, 253, 253, 156,   0,   0,   0,   0,   0,   0,   0,   0,   0],\n",
              "       [  0,   0,   0,   0,   0,   3,  20,  20,  15,   0,   0,   0,   0,   0,  43, 224, 253, 245,  74,   0,   0,   0,   0,   0,   0,   0,   0,   0],\n",
              "       [  0,   0,   0,   0,   0,   0,   0,   0,   0,   0,   0,   0,   0,   0, 249, 253, 245, 126,   0,   0,   0,   0,   0,   0,   0,   0,   0,   0],\n",
              "       [  0,   0,   0,   0,   0,   0,   0,   0,   0,   0,   0,  14, 101, 223, 253, 248, 124,   0,   0,   0,   0,   0,   0,   0,   0,   0,   0,   0],\n",
              "       [  0,   0,   0,   0,   0,   0,   0,   0,   0,  11, 166, 239, 253, 253, 253, 187,  30,   0,   0,   0,   0,   0,   0,   0,   0,   0,   0,   0],\n",
              "       [  0,   0,   0,   0,   0,   0,   0,   0,   0,  16, 248, 250, 253, 253, 253, 253, 232, 213, 111,   2,   0,   0,   0,   0,   0,   0,   0,   0],\n",
              "       [  0,   0,   0,   0,   0,   0,   0,   0,   0,   0,   0,  43,  98,  98, 208, 253, 253, 253, 253, 187,  22,   0,   0,   0,   0,   0,   0,   0],\n",
              "       [  0,   0,   0,   0,   0,   0,   0,   0,   0,   0,   0,   0,   0,   0,   9,  51, 119, 253, 253, 253,  76,   0,   0,   0,   0,   0,   0,   0],\n",
              "       [  0,   0,   0,   0,   0,   0,   0,   0,   0,   0,   0,   0,   0,   0,   0,   0,   1, 183, 253, 253, 139,   0,   0,   0,   0,   0,   0,   0],\n",
              "       [  0,   0,   0,   0,   0,   0,   0,   0,   0,   0,   0,   0,   0,   0,   0,   0,   0, 182, 253, 253, 104,   0,   0,   0,   0,   0,   0,   0],\n",
              "       [  0,   0,   0,   0,   0,   0,   0,   0,   0,   0,   0,   0,   0,   0,   0,   0,  85, 249, 253, 253,  36,   0,   0,   0,   0,   0,   0,   0],\n",
              "       [  0,   0,   0,   0,   0,   0,   0,   0,   0,   0,   0,   0,   0,   0,   0,  60, 214, 253, 253, 173,  11,   0,   0,   0,   0,   0,   0,   0],\n",
              "       [  0,   0,   0,   0,   0,   0,   0,   0,   0,   0,   0,   0,   0,   0,  98, 247, 253, 253, 226,   9,   0,   0,   0,   0,   0,   0,   0,   0],\n",
              "       [  0,   0,   0,   0,   0,   0,   0,   0,   0,   0,   0,   0,  42, 150, 252, 253, 253, 233,  53,   0,   0,   0,   0,   0,   0,   0,   0,   0],\n",
              "       [  0,   0,   0,   0,   0,   0,  42, 115,  42,  60, 115, 159, 240, 253, 253, 250, 175,  25,   0,   0,   0,   0,   0,   0,   0,   0,   0,   0],\n",
              "       [  0,   0,   0,   0,   0,   0, 187, 253, 253, 253, 253, 253, 253, 253, 197,  86,   0,   0,   0,   0,   0,   0,   0,   0,   0,   0,   0,   0],\n",
              "       [  0,   0,   0,   0,   0,   0, 103, 253, 253, 253, 253, 253, 232,  67,   1,   0,   0,   0,   0,   0,   0,   0,   0,   0,   0,   0,   0,   0],\n",
              "       [  0,   0,   0,   0,   0,   0,   0,   0,   0,   0,   0,   0,   0,   0,   0,   0,   0,   0,   0,   0,   0,   0,   0,   0,   0,   0,   0,   0],\n",
              "       [  0,   0,   0,   0,   0,   0,   0,   0,   0,   0,   0,   0,   0,   0,   0,   0,   0,   0,   0,   0,   0,   0,   0,   0,   0,   0,   0,   0],\n",
              "       [  0,   0,   0,   0,   0,   0,   0,   0,   0,   0,   0,   0,   0,   0,   0,   0,   0,   0,   0,   0,   0,   0,   0,   0,   0,   0,   0,   0]], dtype=uint8)"
            ],
            "text/html": [
              "<style>\n",
              "      .ndarray_repr .ndarray_raw_data {\n",
              "        display: none;\n",
              "      }\n",
              "      .ndarray_repr.show_array .ndarray_raw_data {\n",
              "        display: block;\n",
              "      }\n",
              "      .ndarray_repr.show_array .ndarray_image_preview {\n",
              "        display: none;\n",
              "      }\n",
              "      </style>\n",
              "      <div id=\"id-40971cf8-6b13-4aa6-b9b8-c3cf6b2d1d67\" class=\"ndarray_repr\"><pre>ndarray (28, 28) <button style=\"padding: 0 2px;\">show data</button></pre><img src=\"data:image/png;base64,iVBORw0KGgoAAAANSUhEUgAAABwAAAAcCAAAAABXZoBIAAAA9ElEQVR4nM3Or0sDcRjH8c/pgrfBVBjCgibThiKIyTWbWF1bORhGwxARxH/AbtW0JoIGwzXRYhJhtuFY2q1ocLgbe3sGReTuuWbwkx6+r+/zQ/pncX6q+YOldSe6nG3dn8U/rTQ70L8FCGJUewvxl7NTmezNb8xIkvKugr1HSeMP6SrWOVkoTEuSyh0Gm2n3hQyObMnXnxkempRrvgD+gokzwxFAr7U7YXHZ8x4A/Dl7rbu6D2yl3etcw/F3nZgfRVI7rXM7hMUUqzzBec427x26rkmlkzEEa4nnRqnSOH2F0UUx0ePzlbuqMXAHgN6GY9if5xP8dmtHFfwjuQAAAABJRU5ErkJggg==\" class=\"ndarray_image_preview\" /><pre class=\"ndarray_raw_data\">array([[  0,   0,   0,   0,   0,   0,   0,   0,   0,   0,   0,   0,   0,   0,   0,   0,   0,   0,   0,   0,   0,   0,   0,   0,   0,   0,   0,   0],\n",
              "       [  0,   0,   0,   0,   0,   0,   0,   0,   0,   0,   0,   0,   0,   0,   0,   0,   0,   0,   0,   0,   0,   0,   0,   0,   0,   0,   0,   0],\n",
              "       [  0,   0,   0,   0,   0,   0,   0,   0,   0,   0,   0,   0,   0,   0,   0,   0,   0,   0,   0,   0,   0,   0,   0,   0,   0,   0,   0,   0],\n",
              "       [  0,   0,   0,   0,   0,   0,   0,   0,   0,   0,   0,   0,   0,   0,   0,   0,   0,   0,   0,   0,   0,   0,   0,   0,   0,   0,   0,   0],\n",
              "       [  0,   0,   0,   0,   0,   0,   0,   0,   0,   0,   0,   0,   0,   0,   0,   0,   0,   0,   0,   0,   0,   0,   0,   0,   0,   0,   0,   0],\n",
              "       [  0,   0,   0,   0,   0,   0,   0,   0,   0,  29, 150, 195, 254, 255, 254, 176, 193, 150,  96,   0,   0,   0,   0,   0,   0,   0,   0,   0],\n",
              "       [  0,   0,   0,   0,   0,   0,   0,  48, 166, 224, 253, 253, 234, 196, 253, 253, 253, 253, 233,   0,   0,   0,   0,   0,   0,   0,   0,   0],\n",
              "       [  0,   0,   0,   0,   0,  93, 244, 249, 253, 187,  46,  10,   8,   4,  10, 194, 253, 253, 233,   0,   0,   0,   0,   0,   0,   0,   0,   0],\n",
              "       [  0,   0,   0,   0,   0, 107, 253, 253, 230,  48,   0,   0,   0,   0,   0, 192, 253, 253, 156,   0,   0,   0,   0,   0,   0,   0,   0,   0],\n",
              "       [  0,   0,   0,   0,   0,   3,  20,  20,  15,   0,   0,   0,   0,   0,  43, 224, 253, 245,  74,   0,   0,   0,   0,   0,   0,   0,   0,   0],\n",
              "       [  0,   0,   0,   0,   0,   0,   0,   0,   0,   0,   0,   0,   0,   0, 249, 253, 245, 126,   0,   0,   0,   0,   0,   0,   0,   0,   0,   0],\n",
              "       [  0,   0,   0,   0,   0,   0,   0,   0,   0,   0,   0,  14, 101, 223, 253, 248, 124,   0,   0,   0,   0,   0,   0,   0,   0,   0,   0,   0],\n",
              "       [  0,   0,   0,   0,   0,   0,   0,   0,   0,  11, 166, 239, 253, 253, 253, 187,  30,   0,   0,   0,   0,   0,   0,   0,   0,   0,   0,   0],\n",
              "       [  0,   0,   0,   0,   0,   0,   0,   0,   0,  16, 248, 250, 253, 253, 253, 253, 232, 213, 111,   2,   0,   0,   0,   0,   0,   0,   0,   0],\n",
              "       [  0,   0,   0,   0,   0,   0,   0,   0,   0,   0,   0,  43,  98,  98, 208, 253, 253, 253, 253, 187,  22,   0,   0,   0,   0,   0,   0,   0],\n",
              "       [  0,   0,   0,   0,   0,   0,   0,   0,   0,   0,   0,   0,   0,   0,   9,  51, 119, 253, 253, 253,  76,   0,   0,   0,   0,   0,   0,   0],\n",
              "       [  0,   0,   0,   0,   0,   0,   0,   0,   0,   0,   0,   0,   0,   0,   0,   0,   1, 183, 253, 253, 139,   0,   0,   0,   0,   0,   0,   0],\n",
              "       [  0,   0,   0,   0,   0,   0,   0,   0,   0,   0,   0,   0,   0,   0,   0,   0,   0, 182, 253, 253, 104,   0,   0,   0,   0,   0,   0,   0],\n",
              "       [  0,   0,   0,   0,   0,   0,   0,   0,   0,   0,   0,   0,   0,   0,   0,   0,  85, 249, 253, 253,  36,   0,   0,   0,   0,   0,   0,   0],\n",
              "       [  0,   0,   0,   0,   0,   0,   0,   0,   0,   0,   0,   0,   0,   0,   0,  60, 214, 253, 253, 173,  11,   0,   0,   0,   0,   0,   0,   0],\n",
              "       [  0,   0,   0,   0,   0,   0,   0,   0,   0,   0,   0,   0,   0,   0,  98, 247, 253, 253, 226,   9,   0,   0,   0,   0,   0,   0,   0,   0],\n",
              "       [  0,   0,   0,   0,   0,   0,   0,   0,   0,   0,   0,   0,  42, 150, 252, 253, 253, 233,  53,   0,   0,   0,   0,   0,   0,   0,   0,   0],\n",
              "       [  0,   0,   0,   0,   0,   0,  42, 115,  42,  60, 115, 159, 240, 253, 253, 250, 175,  25,   0,   0,   0,   0,   0,   0,   0,   0,   0,   0],\n",
              "       [  0,   0,   0,   0,   0,   0, 187, 253, 253, 253, 253, 253, 253, 253, 197,  86,   0,   0,   0,   0,   0,   0,   0,   0,   0,   0,   0,   0],\n",
              "       [  0,   0,   0,   0,   0,   0, 103, 253, 253, 253, 253, 253, 232,  67,   1,   0,   0,   0,   0,   0,   0,   0,   0,   0,   0,   0,   0,   0],\n",
              "       [  0,   0,   0,   0,   0,   0,   0,   0,   0,   0,   0,   0,   0,   0,   0,   0,   0,   0,   0,   0,   0,   0,   0,   0,   0,   0,   0,   0],\n",
              "       [  0,   0,   0,   0,   0,   0,   0,   0,   0,   0,   0,   0,   0,   0,   0,   0,   0,   0,   0,   0,   0,   0,   0,   0,   0,   0,   0,   0],\n",
              "       [  0,   0,   0,   0,   0,   0,   0,   0,   0,   0,   0,   0,   0,   0,   0,   0,   0,   0,   0,   0,   0,   0,   0,   0,   0,   0,   0,   0]], dtype=uint8)</pre></div><script>\n",
              "      (() => {\n",
              "      const titles = ['show data', 'hide data'];\n",
              "      let index = 0\n",
              "      document.querySelector('#id-40971cf8-6b13-4aa6-b9b8-c3cf6b2d1d67 button').onclick = (e) => {\n",
              "        document.querySelector('#id-40971cf8-6b13-4aa6-b9b8-c3cf6b2d1d67').classList.toggle('show_array');\n",
              "        index = (++index) % 2;\n",
              "        document.querySelector('#id-40971cf8-6b13-4aa6-b9b8-c3cf6b2d1d67 button').textContent = titles[index];\n",
              "        e.preventDefault();\n",
              "        e.stopPropagation();\n",
              "      }\n",
              "      })();\n",
              "    </script>"
            ]
          },
          "metadata": {},
          "execution_count": 14
        }
      ]
    },
    {
      "cell_type": "code",
      "source": [
        "tensor(img3) #while using pytorch"
      ],
      "metadata": {
        "colab": {
          "base_uri": "https://localhost:8080/"
        },
        "id": "FYeN_TExTzXZ",
        "outputId": "6e963827-7f9d-42cc-dbac-49c4ab0184a4"
      },
      "execution_count": 15,
      "outputs": [
        {
          "output_type": "execute_result",
          "data": {
            "text/plain": [
              "tensor([[  0,   0,   0,   0,   0,   0,   0,   0,   0,   0,   0,   0,   0,   0,   0,   0,   0,   0,   0,   0,   0,   0,   0,   0,   0,   0,   0,   0],\n",
              "        [  0,   0,   0,   0,   0,   0,   0,   0,   0,   0,   0,   0,   0,   0,   0,   0,   0,   0,   0,   0,   0,   0,   0,   0,   0,   0,   0,   0],\n",
              "        [  0,   0,   0,   0,   0,   0,   0,   0,   0,   0,   0,   0,   0,   0,   0,   0,   0,   0,   0,   0,   0,   0,   0,   0,   0,   0,   0,   0],\n",
              "        [  0,   0,   0,   0,   0,   0,   0,   0,   0,   0,   0,   0,   0,   0,   0,   0,   0,   0,   0,   0,   0,   0,   0,   0,   0,   0,   0,   0],\n",
              "        [  0,   0,   0,   0,   0,   0,   0,   0,   0,   0,   0,   0,   0,   0,   0,   0,   0,   0,   0,   0,   0,   0,   0,   0,   0,   0,   0,   0],\n",
              "        [  0,   0,   0,   0,   0,   0,   0,   0,   0,  29, 150, 195, 254, 255, 254, 176, 193, 150,  96,   0,   0,   0,   0,   0,   0,   0,   0,   0],\n",
              "        [  0,   0,   0,   0,   0,   0,   0,  48, 166, 224, 253, 253, 234, 196, 253, 253, 253, 253, 233,   0,   0,   0,   0,   0,   0,   0,   0,   0],\n",
              "        [  0,   0,   0,   0,   0,  93, 244, 249, 253, 187,  46,  10,   8,   4,  10, 194, 253, 253, 233,   0,   0,   0,   0,   0,   0,   0,   0,   0],\n",
              "        [  0,   0,   0,   0,   0, 107, 253, 253, 230,  48,   0,   0,   0,   0,   0, 192, 253, 253, 156,   0,   0,   0,   0,   0,   0,   0,   0,   0],\n",
              "        [  0,   0,   0,   0,   0,   3,  20,  20,  15,   0,   0,   0,   0,   0,  43, 224, 253, 245,  74,   0,   0,   0,   0,   0,   0,   0,   0,   0],\n",
              "        [  0,   0,   0,   0,   0,   0,   0,   0,   0,   0,   0,   0,   0,   0, 249, 253, 245, 126,   0,   0,   0,   0,   0,   0,   0,   0,   0,   0],\n",
              "        [  0,   0,   0,   0,   0,   0,   0,   0,   0,   0,   0,  14, 101, 223, 253, 248, 124,   0,   0,   0,   0,   0,   0,   0,   0,   0,   0,   0],\n",
              "        [  0,   0,   0,   0,   0,   0,   0,   0,   0,  11, 166, 239, 253, 253, 253, 187,  30,   0,   0,   0,   0,   0,   0,   0,   0,   0,   0,   0],\n",
              "        [  0,   0,   0,   0,   0,   0,   0,   0,   0,  16, 248, 250, 253, 253, 253, 253, 232, 213, 111,   2,   0,   0,   0,   0,   0,   0,   0,   0],\n",
              "        [  0,   0,   0,   0,   0,   0,   0,   0,   0,   0,   0,  43,  98,  98, 208, 253, 253, 253, 253, 187,  22,   0,   0,   0,   0,   0,   0,   0],\n",
              "        [  0,   0,   0,   0,   0,   0,   0,   0,   0,   0,   0,   0,   0,   0,   9,  51, 119, 253, 253, 253,  76,   0,   0,   0,   0,   0,   0,   0],\n",
              "        [  0,   0,   0,   0,   0,   0,   0,   0,   0,   0,   0,   0,   0,   0,   0,   0,   1, 183, 253, 253, 139,   0,   0,   0,   0,   0,   0,   0],\n",
              "        [  0,   0,   0,   0,   0,   0,   0,   0,   0,   0,   0,   0,   0,   0,   0,   0,   0, 182, 253, 253, 104,   0,   0,   0,   0,   0,   0,   0],\n",
              "        [  0,   0,   0,   0,   0,   0,   0,   0,   0,   0,   0,   0,   0,   0,   0,   0,  85, 249, 253, 253,  36,   0,   0,   0,   0,   0,   0,   0],\n",
              "        [  0,   0,   0,   0,   0,   0,   0,   0,   0,   0,   0,   0,   0,   0,   0,  60, 214, 253, 253, 173,  11,   0,   0,   0,   0,   0,   0,   0],\n",
              "        [  0,   0,   0,   0,   0,   0,   0,   0,   0,   0,   0,   0,   0,   0,  98, 247, 253, 253, 226,   9,   0,   0,   0,   0,   0,   0,   0,   0],\n",
              "        [  0,   0,   0,   0,   0,   0,   0,   0,   0,   0,   0,   0,  42, 150, 252, 253, 253, 233,  53,   0,   0,   0,   0,   0,   0,   0,   0,   0],\n",
              "        [  0,   0,   0,   0,   0,   0,  42, 115,  42,  60, 115, 159, 240, 253, 253, 250, 175,  25,   0,   0,   0,   0,   0,   0,   0,   0,   0,   0],\n",
              "        [  0,   0,   0,   0,   0,   0, 187, 253, 253, 253, 253, 253, 253, 253, 197,  86,   0,   0,   0,   0,   0,   0,   0,   0,   0,   0,   0,   0],\n",
              "        [  0,   0,   0,   0,   0,   0, 103, 253, 253, 253, 253, 253, 232,  67,   1,   0,   0,   0,   0,   0,   0,   0,   0,   0,   0,   0,   0,   0],\n",
              "        [  0,   0,   0,   0,   0,   0,   0,   0,   0,   0,   0,   0,   0,   0,   0,   0,   0,   0,   0,   0,   0,   0,   0,   0,   0,   0,   0,   0],\n",
              "        [  0,   0,   0,   0,   0,   0,   0,   0,   0,   0,   0,   0,   0,   0,   0,   0,   0,   0,   0,   0,   0,   0,   0,   0,   0,   0,   0,   0],\n",
              "        [  0,   0,   0,   0,   0,   0,   0,   0,   0,   0,   0,   0,   0,   0,   0,   0,   0,   0,   0,   0,   0,   0,   0,   0,   0,   0,   0,   0]], dtype=torch.uint8)"
            ]
          },
          "metadata": {},
          "execution_count": 15
        }
      ]
    },
    {
      "cell_type": "code",
      "source": [
        "#@ Color visualization:\n",
        "img3_t=tensor(img3)\n",
        "df=pd.DataFrame(img3_t[4:15, 4:22])\n",
        "df.style.set_properties(**{'font-size':'6pt'}).background_gradient('Greys')"
      ],
      "metadata": {
        "colab": {
          "base_uri": "https://localhost:8080/",
          "height": 394
        },
        "id": "qmOVr4ggUAnc",
        "outputId": "7d71beb9-fc37-45db-ea94-71eab2cbb733"
      },
      "execution_count": 16,
      "outputs": [
        {
          "output_type": "execute_result",
          "data": {
            "text/plain": [
              "<pandas.io.formats.style.Styler at 0x7d7c3f242560>"
            ],
            "text/html": [
              "<style type=\"text/css\">\n",
              "#T_a6bbc_row0_col0, #T_a6bbc_row0_col1, #T_a6bbc_row0_col2, #T_a6bbc_row0_col3, #T_a6bbc_row0_col4, #T_a6bbc_row0_col5, #T_a6bbc_row0_col6, #T_a6bbc_row0_col7, #T_a6bbc_row0_col8, #T_a6bbc_row0_col9, #T_a6bbc_row0_col10, #T_a6bbc_row0_col11, #T_a6bbc_row0_col12, #T_a6bbc_row0_col13, #T_a6bbc_row0_col14, #T_a6bbc_row0_col15, #T_a6bbc_row0_col16, #T_a6bbc_row0_col17, #T_a6bbc_row1_col0, #T_a6bbc_row1_col1, #T_a6bbc_row1_col2, #T_a6bbc_row1_col3, #T_a6bbc_row1_col4, #T_a6bbc_row1_col15, #T_a6bbc_row1_col16, #T_a6bbc_row1_col17, #T_a6bbc_row2_col0, #T_a6bbc_row2_col1, #T_a6bbc_row2_col2, #T_a6bbc_row2_col15, #T_a6bbc_row2_col16, #T_a6bbc_row2_col17, #T_a6bbc_row3_col0, #T_a6bbc_row3_col15, #T_a6bbc_row3_col16, #T_a6bbc_row3_col17, #T_a6bbc_row4_col0, #T_a6bbc_row4_col6, #T_a6bbc_row4_col7, #T_a6bbc_row4_col8, #T_a6bbc_row4_col9, #T_a6bbc_row4_col10, #T_a6bbc_row4_col15, #T_a6bbc_row4_col16, #T_a6bbc_row4_col17, #T_a6bbc_row5_col0, #T_a6bbc_row5_col5, #T_a6bbc_row5_col6, #T_a6bbc_row5_col7, #T_a6bbc_row5_col8, #T_a6bbc_row5_col9, #T_a6bbc_row5_col15, #T_a6bbc_row5_col16, #T_a6bbc_row5_col17, #T_a6bbc_row6_col0, #T_a6bbc_row6_col1, #T_a6bbc_row6_col2, #T_a6bbc_row6_col3, #T_a6bbc_row6_col4, #T_a6bbc_row6_col5, #T_a6bbc_row6_col6, #T_a6bbc_row6_col7, #T_a6bbc_row6_col8, #T_a6bbc_row6_col9, #T_a6bbc_row6_col14, #T_a6bbc_row6_col15, #T_a6bbc_row6_col16, #T_a6bbc_row6_col17, #T_a6bbc_row7_col0, #T_a6bbc_row7_col1, #T_a6bbc_row7_col2, #T_a6bbc_row7_col3, #T_a6bbc_row7_col4, #T_a6bbc_row7_col5, #T_a6bbc_row7_col6, #T_a6bbc_row7_col13, #T_a6bbc_row7_col14, #T_a6bbc_row7_col15, #T_a6bbc_row7_col16, #T_a6bbc_row7_col17, #T_a6bbc_row8_col0, #T_a6bbc_row8_col1, #T_a6bbc_row8_col2, #T_a6bbc_row8_col3, #T_a6bbc_row8_col4, #T_a6bbc_row8_col13, #T_a6bbc_row8_col14, #T_a6bbc_row8_col15, #T_a6bbc_row8_col16, #T_a6bbc_row8_col17, #T_a6bbc_row9_col0, #T_a6bbc_row9_col1, #T_a6bbc_row9_col2, #T_a6bbc_row9_col3, #T_a6bbc_row9_col4, #T_a6bbc_row9_col16, #T_a6bbc_row9_col17, #T_a6bbc_row10_col0, #T_a6bbc_row10_col1, #T_a6bbc_row10_col2, #T_a6bbc_row10_col3, #T_a6bbc_row10_col4, #T_a6bbc_row10_col5, #T_a6bbc_row10_col6, #T_a6bbc_row10_col17 {\n",
              "  font-size: 6pt;\n",
              "  background-color: #ffffff;\n",
              "  color: #000000;\n",
              "}\n",
              "#T_a6bbc_row1_col5 {\n",
              "  font-size: 6pt;\n",
              "  background-color: #efefef;\n",
              "  color: #000000;\n",
              "}\n",
              "#T_a6bbc_row1_col6, #T_a6bbc_row1_col13 {\n",
              "  font-size: 6pt;\n",
              "  background-color: #7c7c7c;\n",
              "  color: #f1f1f1;\n",
              "}\n",
              "#T_a6bbc_row1_col7 {\n",
              "  font-size: 6pt;\n",
              "  background-color: #4a4a4a;\n",
              "  color: #f1f1f1;\n",
              "}\n",
              "#T_a6bbc_row1_col8, #T_a6bbc_row1_col9, #T_a6bbc_row1_col10, #T_a6bbc_row2_col5, #T_a6bbc_row2_col6, #T_a6bbc_row2_col7, #T_a6bbc_row2_col11, #T_a6bbc_row2_col12, #T_a6bbc_row2_col13, #T_a6bbc_row3_col4, #T_a6bbc_row3_col12, #T_a6bbc_row3_col13, #T_a6bbc_row4_col1, #T_a6bbc_row4_col2, #T_a6bbc_row4_col3, #T_a6bbc_row4_col12, #T_a6bbc_row4_col13, #T_a6bbc_row5_col12, #T_a6bbc_row6_col11, #T_a6bbc_row9_col11, #T_a6bbc_row10_col11, #T_a6bbc_row10_col12, #T_a6bbc_row10_col13, #T_a6bbc_row10_col14, #T_a6bbc_row10_col15, #T_a6bbc_row10_col16 {\n",
              "  font-size: 6pt;\n",
              "  background-color: #000000;\n",
              "  color: #f1f1f1;\n",
              "}\n",
              "#T_a6bbc_row1_col11 {\n",
              "  font-size: 6pt;\n",
              "  background-color: #606060;\n",
              "  color: #f1f1f1;\n",
              "}\n",
              "#T_a6bbc_row1_col12 {\n",
              "  font-size: 6pt;\n",
              "  background-color: #4d4d4d;\n",
              "  color: #f1f1f1;\n",
              "}\n",
              "#T_a6bbc_row1_col14 {\n",
              "  font-size: 6pt;\n",
              "  background-color: #bbbbbb;\n",
              "  color: #000000;\n",
              "}\n",
              "#T_a6bbc_row2_col3 {\n",
              "  font-size: 6pt;\n",
              "  background-color: #e4e4e4;\n",
              "  color: #000000;\n",
              "}\n",
              "#T_a6bbc_row2_col4, #T_a6bbc_row8_col6 {\n",
              "  font-size: 6pt;\n",
              "  background-color: #6b6b6b;\n",
              "  color: #f1f1f1;\n",
              "}\n",
              "#T_a6bbc_row2_col8, #T_a6bbc_row2_col14, #T_a6bbc_row3_col14 {\n",
              "  font-size: 6pt;\n",
              "  background-color: #171717;\n",
              "  color: #f1f1f1;\n",
              "}\n",
              "#T_a6bbc_row2_col9, #T_a6bbc_row3_col11 {\n",
              "  font-size: 6pt;\n",
              "  background-color: #4b4b4b;\n",
              "  color: #f1f1f1;\n",
              "}\n",
              "#T_a6bbc_row2_col10, #T_a6bbc_row7_col10, #T_a6bbc_row8_col8, #T_a6bbc_row8_col10, #T_a6bbc_row9_col8, #T_a6bbc_row9_col10 {\n",
              "  font-size: 6pt;\n",
              "  background-color: #010101;\n",
              "  color: #f1f1f1;\n",
              "}\n",
              "#T_a6bbc_row3_col1 {\n",
              "  font-size: 6pt;\n",
              "  background-color: #272727;\n",
              "  color: #f1f1f1;\n",
              "}\n",
              "#T_a6bbc_row3_col2 {\n",
              "  font-size: 6pt;\n",
              "  background-color: #0a0a0a;\n",
              "  color: #f1f1f1;\n",
              "}\n",
              "#T_a6bbc_row3_col3 {\n",
              "  font-size: 6pt;\n",
              "  background-color: #050505;\n",
              "  color: #f1f1f1;\n",
              "}\n",
              "#T_a6bbc_row3_col5 {\n",
              "  font-size: 6pt;\n",
              "  background-color: #333333;\n",
              "  color: #f1f1f1;\n",
              "}\n",
              "#T_a6bbc_row3_col6 {\n",
              "  font-size: 6pt;\n",
              "  background-color: #e6e6e6;\n",
              "  color: #000000;\n",
              "}\n",
              "#T_a6bbc_row3_col7, #T_a6bbc_row3_col10 {\n",
              "  font-size: 6pt;\n",
              "  background-color: #fafafa;\n",
              "  color: #000000;\n",
              "}\n",
              "#T_a6bbc_row3_col8 {\n",
              "  font-size: 6pt;\n",
              "  background-color: #fbfbfb;\n",
              "  color: #000000;\n",
              "}\n",
              "#T_a6bbc_row3_col9 {\n",
              "  font-size: 6pt;\n",
              "  background-color: #fdfdfd;\n",
              "  color: #000000;\n",
              "}\n",
              "#T_a6bbc_row4_col4 {\n",
              "  font-size: 6pt;\n",
              "  background-color: #1b1b1b;\n",
              "  color: #f1f1f1;\n",
              "}\n",
              "#T_a6bbc_row4_col5 {\n",
              "  font-size: 6pt;\n",
              "  background-color: #e0e0e0;\n",
              "  color: #000000;\n",
              "}\n",
              "#T_a6bbc_row4_col11 {\n",
              "  font-size: 6pt;\n",
              "  background-color: #4e4e4e;\n",
              "  color: #f1f1f1;\n",
              "}\n",
              "#T_a6bbc_row4_col14 {\n",
              "  font-size: 6pt;\n",
              "  background-color: #767676;\n",
              "  color: #f1f1f1;\n",
              "}\n",
              "#T_a6bbc_row5_col1 {\n",
              "  font-size: 6pt;\n",
              "  background-color: #fcfcfc;\n",
              "  color: #000000;\n",
              "}\n",
              "#T_a6bbc_row5_col2, #T_a6bbc_row5_col3 {\n",
              "  font-size: 6pt;\n",
              "  background-color: #f6f6f6;\n",
              "  color: #000000;\n",
              "}\n",
              "#T_a6bbc_row5_col4, #T_a6bbc_row7_col7 {\n",
              "  font-size: 6pt;\n",
              "  background-color: #f8f8f8;\n",
              "  color: #000000;\n",
              "}\n",
              "#T_a6bbc_row5_col10, #T_a6bbc_row10_col7 {\n",
              "  font-size: 6pt;\n",
              "  background-color: #e8e8e8;\n",
              "  color: #000000;\n",
              "}\n",
              "#T_a6bbc_row5_col11 {\n",
              "  font-size: 6pt;\n",
              "  background-color: #222222;\n",
              "  color: #f1f1f1;\n",
              "}\n",
              "#T_a6bbc_row5_col13, #T_a6bbc_row6_col12 {\n",
              "  font-size: 6pt;\n",
              "  background-color: #090909;\n",
              "  color: #f1f1f1;\n",
              "}\n",
              "#T_a6bbc_row5_col14 {\n",
              "  font-size: 6pt;\n",
              "  background-color: #d0d0d0;\n",
              "  color: #000000;\n",
              "}\n",
              "#T_a6bbc_row6_col10, #T_a6bbc_row7_col11, #T_a6bbc_row9_col6 {\n",
              "  font-size: 6pt;\n",
              "  background-color: #060606;\n",
              "  color: #f1f1f1;\n",
              "}\n",
              "#T_a6bbc_row6_col13 {\n",
              "  font-size: 6pt;\n",
              "  background-color: #979797;\n",
              "  color: #f1f1f1;\n",
              "}\n",
              "#T_a6bbc_row7_col8 {\n",
              "  font-size: 6pt;\n",
              "  background-color: #b6b6b6;\n",
              "  color: #000000;\n",
              "}\n",
              "#T_a6bbc_row7_col9 {\n",
              "  font-size: 6pt;\n",
              "  background-color: #252525;\n",
              "  color: #f1f1f1;\n",
              "}\n",
              "#T_a6bbc_row7_col12 {\n",
              "  font-size: 6pt;\n",
              "  background-color: #999999;\n",
              "  color: #f1f1f1;\n",
              "}\n",
              "#T_a6bbc_row8_col5 {\n",
              "  font-size: 6pt;\n",
              "  background-color: #f9f9f9;\n",
              "  color: #000000;\n",
              "}\n",
              "#T_a6bbc_row8_col7 {\n",
              "  font-size: 6pt;\n",
              "  background-color: #101010;\n",
              "  color: #f1f1f1;\n",
              "}\n",
              "#T_a6bbc_row8_col9, #T_a6bbc_row9_col9 {\n",
              "  font-size: 6pt;\n",
              "  background-color: #020202;\n",
              "  color: #f1f1f1;\n",
              "}\n",
              "#T_a6bbc_row8_col11 {\n",
              "  font-size: 6pt;\n",
              "  background-color: #545454;\n",
              "  color: #f1f1f1;\n",
              "}\n",
              "#T_a6bbc_row8_col12 {\n",
              "  font-size: 6pt;\n",
              "  background-color: #f1f1f1;\n",
              "  color: #000000;\n",
              "}\n",
              "#T_a6bbc_row9_col5 {\n",
              "  font-size: 6pt;\n",
              "  background-color: #f7f7f7;\n",
              "  color: #000000;\n",
              "}\n",
              "#T_a6bbc_row9_col7 {\n",
              "  font-size: 6pt;\n",
              "  background-color: #030303;\n",
              "  color: #f1f1f1;\n",
              "}\n",
              "#T_a6bbc_row9_col12 {\n",
              "  font-size: 6pt;\n",
              "  background-color: #181818;\n",
              "  color: #f1f1f1;\n",
              "}\n",
              "#T_a6bbc_row9_col13 {\n",
              "  font-size: 6pt;\n",
              "  background-color: #303030;\n",
              "  color: #f1f1f1;\n",
              "}\n",
              "#T_a6bbc_row9_col14 {\n",
              "  font-size: 6pt;\n",
              "  background-color: #a9a9a9;\n",
              "  color: #f1f1f1;\n",
              "}\n",
              "#T_a6bbc_row9_col15 {\n",
              "  font-size: 6pt;\n",
              "  background-color: #fefefe;\n",
              "  color: #000000;\n",
              "}\n",
              "#T_a6bbc_row10_col8, #T_a6bbc_row10_col9 {\n",
              "  font-size: 6pt;\n",
              "  background-color: #bababa;\n",
              "  color: #000000;\n",
              "}\n",
              "#T_a6bbc_row10_col10 {\n",
              "  font-size: 6pt;\n",
              "  background-color: #393939;\n",
              "  color: #f1f1f1;\n",
              "}\n",
              "</style>\n",
              "<table id=\"T_a6bbc\" class=\"dataframe\">\n",
              "  <thead>\n",
              "    <tr>\n",
              "      <th class=\"blank level0\" >&nbsp;</th>\n",
              "      <th id=\"T_a6bbc_level0_col0\" class=\"col_heading level0 col0\" >0</th>\n",
              "      <th id=\"T_a6bbc_level0_col1\" class=\"col_heading level0 col1\" >1</th>\n",
              "      <th id=\"T_a6bbc_level0_col2\" class=\"col_heading level0 col2\" >2</th>\n",
              "      <th id=\"T_a6bbc_level0_col3\" class=\"col_heading level0 col3\" >3</th>\n",
              "      <th id=\"T_a6bbc_level0_col4\" class=\"col_heading level0 col4\" >4</th>\n",
              "      <th id=\"T_a6bbc_level0_col5\" class=\"col_heading level0 col5\" >5</th>\n",
              "      <th id=\"T_a6bbc_level0_col6\" class=\"col_heading level0 col6\" >6</th>\n",
              "      <th id=\"T_a6bbc_level0_col7\" class=\"col_heading level0 col7\" >7</th>\n",
              "      <th id=\"T_a6bbc_level0_col8\" class=\"col_heading level0 col8\" >8</th>\n",
              "      <th id=\"T_a6bbc_level0_col9\" class=\"col_heading level0 col9\" >9</th>\n",
              "      <th id=\"T_a6bbc_level0_col10\" class=\"col_heading level0 col10\" >10</th>\n",
              "      <th id=\"T_a6bbc_level0_col11\" class=\"col_heading level0 col11\" >11</th>\n",
              "      <th id=\"T_a6bbc_level0_col12\" class=\"col_heading level0 col12\" >12</th>\n",
              "      <th id=\"T_a6bbc_level0_col13\" class=\"col_heading level0 col13\" >13</th>\n",
              "      <th id=\"T_a6bbc_level0_col14\" class=\"col_heading level0 col14\" >14</th>\n",
              "      <th id=\"T_a6bbc_level0_col15\" class=\"col_heading level0 col15\" >15</th>\n",
              "      <th id=\"T_a6bbc_level0_col16\" class=\"col_heading level0 col16\" >16</th>\n",
              "      <th id=\"T_a6bbc_level0_col17\" class=\"col_heading level0 col17\" >17</th>\n",
              "    </tr>\n",
              "  </thead>\n",
              "  <tbody>\n",
              "    <tr>\n",
              "      <th id=\"T_a6bbc_level0_row0\" class=\"row_heading level0 row0\" >0</th>\n",
              "      <td id=\"T_a6bbc_row0_col0\" class=\"data row0 col0\" >0</td>\n",
              "      <td id=\"T_a6bbc_row0_col1\" class=\"data row0 col1\" >0</td>\n",
              "      <td id=\"T_a6bbc_row0_col2\" class=\"data row0 col2\" >0</td>\n",
              "      <td id=\"T_a6bbc_row0_col3\" class=\"data row0 col3\" >0</td>\n",
              "      <td id=\"T_a6bbc_row0_col4\" class=\"data row0 col4\" >0</td>\n",
              "      <td id=\"T_a6bbc_row0_col5\" class=\"data row0 col5\" >0</td>\n",
              "      <td id=\"T_a6bbc_row0_col6\" class=\"data row0 col6\" >0</td>\n",
              "      <td id=\"T_a6bbc_row0_col7\" class=\"data row0 col7\" >0</td>\n",
              "      <td id=\"T_a6bbc_row0_col8\" class=\"data row0 col8\" >0</td>\n",
              "      <td id=\"T_a6bbc_row0_col9\" class=\"data row0 col9\" >0</td>\n",
              "      <td id=\"T_a6bbc_row0_col10\" class=\"data row0 col10\" >0</td>\n",
              "      <td id=\"T_a6bbc_row0_col11\" class=\"data row0 col11\" >0</td>\n",
              "      <td id=\"T_a6bbc_row0_col12\" class=\"data row0 col12\" >0</td>\n",
              "      <td id=\"T_a6bbc_row0_col13\" class=\"data row0 col13\" >0</td>\n",
              "      <td id=\"T_a6bbc_row0_col14\" class=\"data row0 col14\" >0</td>\n",
              "      <td id=\"T_a6bbc_row0_col15\" class=\"data row0 col15\" >0</td>\n",
              "      <td id=\"T_a6bbc_row0_col16\" class=\"data row0 col16\" >0</td>\n",
              "      <td id=\"T_a6bbc_row0_col17\" class=\"data row0 col17\" >0</td>\n",
              "    </tr>\n",
              "    <tr>\n",
              "      <th id=\"T_a6bbc_level0_row1\" class=\"row_heading level0 row1\" >1</th>\n",
              "      <td id=\"T_a6bbc_row1_col0\" class=\"data row1 col0\" >0</td>\n",
              "      <td id=\"T_a6bbc_row1_col1\" class=\"data row1 col1\" >0</td>\n",
              "      <td id=\"T_a6bbc_row1_col2\" class=\"data row1 col2\" >0</td>\n",
              "      <td id=\"T_a6bbc_row1_col3\" class=\"data row1 col3\" >0</td>\n",
              "      <td id=\"T_a6bbc_row1_col4\" class=\"data row1 col4\" >0</td>\n",
              "      <td id=\"T_a6bbc_row1_col5\" class=\"data row1 col5\" >29</td>\n",
              "      <td id=\"T_a6bbc_row1_col6\" class=\"data row1 col6\" >150</td>\n",
              "      <td id=\"T_a6bbc_row1_col7\" class=\"data row1 col7\" >195</td>\n",
              "      <td id=\"T_a6bbc_row1_col8\" class=\"data row1 col8\" >254</td>\n",
              "      <td id=\"T_a6bbc_row1_col9\" class=\"data row1 col9\" >255</td>\n",
              "      <td id=\"T_a6bbc_row1_col10\" class=\"data row1 col10\" >254</td>\n",
              "      <td id=\"T_a6bbc_row1_col11\" class=\"data row1 col11\" >176</td>\n",
              "      <td id=\"T_a6bbc_row1_col12\" class=\"data row1 col12\" >193</td>\n",
              "      <td id=\"T_a6bbc_row1_col13\" class=\"data row1 col13\" >150</td>\n",
              "      <td id=\"T_a6bbc_row1_col14\" class=\"data row1 col14\" >96</td>\n",
              "      <td id=\"T_a6bbc_row1_col15\" class=\"data row1 col15\" >0</td>\n",
              "      <td id=\"T_a6bbc_row1_col16\" class=\"data row1 col16\" >0</td>\n",
              "      <td id=\"T_a6bbc_row1_col17\" class=\"data row1 col17\" >0</td>\n",
              "    </tr>\n",
              "    <tr>\n",
              "      <th id=\"T_a6bbc_level0_row2\" class=\"row_heading level0 row2\" >2</th>\n",
              "      <td id=\"T_a6bbc_row2_col0\" class=\"data row2 col0\" >0</td>\n",
              "      <td id=\"T_a6bbc_row2_col1\" class=\"data row2 col1\" >0</td>\n",
              "      <td id=\"T_a6bbc_row2_col2\" class=\"data row2 col2\" >0</td>\n",
              "      <td id=\"T_a6bbc_row2_col3\" class=\"data row2 col3\" >48</td>\n",
              "      <td id=\"T_a6bbc_row2_col4\" class=\"data row2 col4\" >166</td>\n",
              "      <td id=\"T_a6bbc_row2_col5\" class=\"data row2 col5\" >224</td>\n",
              "      <td id=\"T_a6bbc_row2_col6\" class=\"data row2 col6\" >253</td>\n",
              "      <td id=\"T_a6bbc_row2_col7\" class=\"data row2 col7\" >253</td>\n",
              "      <td id=\"T_a6bbc_row2_col8\" class=\"data row2 col8\" >234</td>\n",
              "      <td id=\"T_a6bbc_row2_col9\" class=\"data row2 col9\" >196</td>\n",
              "      <td id=\"T_a6bbc_row2_col10\" class=\"data row2 col10\" >253</td>\n",
              "      <td id=\"T_a6bbc_row2_col11\" class=\"data row2 col11\" >253</td>\n",
              "      <td id=\"T_a6bbc_row2_col12\" class=\"data row2 col12\" >253</td>\n",
              "      <td id=\"T_a6bbc_row2_col13\" class=\"data row2 col13\" >253</td>\n",
              "      <td id=\"T_a6bbc_row2_col14\" class=\"data row2 col14\" >233</td>\n",
              "      <td id=\"T_a6bbc_row2_col15\" class=\"data row2 col15\" >0</td>\n",
              "      <td id=\"T_a6bbc_row2_col16\" class=\"data row2 col16\" >0</td>\n",
              "      <td id=\"T_a6bbc_row2_col17\" class=\"data row2 col17\" >0</td>\n",
              "    </tr>\n",
              "    <tr>\n",
              "      <th id=\"T_a6bbc_level0_row3\" class=\"row_heading level0 row3\" >3</th>\n",
              "      <td id=\"T_a6bbc_row3_col0\" class=\"data row3 col0\" >0</td>\n",
              "      <td id=\"T_a6bbc_row3_col1\" class=\"data row3 col1\" >93</td>\n",
              "      <td id=\"T_a6bbc_row3_col2\" class=\"data row3 col2\" >244</td>\n",
              "      <td id=\"T_a6bbc_row3_col3\" class=\"data row3 col3\" >249</td>\n",
              "      <td id=\"T_a6bbc_row3_col4\" class=\"data row3 col4\" >253</td>\n",
              "      <td id=\"T_a6bbc_row3_col5\" class=\"data row3 col5\" >187</td>\n",
              "      <td id=\"T_a6bbc_row3_col6\" class=\"data row3 col6\" >46</td>\n",
              "      <td id=\"T_a6bbc_row3_col7\" class=\"data row3 col7\" >10</td>\n",
              "      <td id=\"T_a6bbc_row3_col8\" class=\"data row3 col8\" >8</td>\n",
              "      <td id=\"T_a6bbc_row3_col9\" class=\"data row3 col9\" >4</td>\n",
              "      <td id=\"T_a6bbc_row3_col10\" class=\"data row3 col10\" >10</td>\n",
              "      <td id=\"T_a6bbc_row3_col11\" class=\"data row3 col11\" >194</td>\n",
              "      <td id=\"T_a6bbc_row3_col12\" class=\"data row3 col12\" >253</td>\n",
              "      <td id=\"T_a6bbc_row3_col13\" class=\"data row3 col13\" >253</td>\n",
              "      <td id=\"T_a6bbc_row3_col14\" class=\"data row3 col14\" >233</td>\n",
              "      <td id=\"T_a6bbc_row3_col15\" class=\"data row3 col15\" >0</td>\n",
              "      <td id=\"T_a6bbc_row3_col16\" class=\"data row3 col16\" >0</td>\n",
              "      <td id=\"T_a6bbc_row3_col17\" class=\"data row3 col17\" >0</td>\n",
              "    </tr>\n",
              "    <tr>\n",
              "      <th id=\"T_a6bbc_level0_row4\" class=\"row_heading level0 row4\" >4</th>\n",
              "      <td id=\"T_a6bbc_row4_col0\" class=\"data row4 col0\" >0</td>\n",
              "      <td id=\"T_a6bbc_row4_col1\" class=\"data row4 col1\" >107</td>\n",
              "      <td id=\"T_a6bbc_row4_col2\" class=\"data row4 col2\" >253</td>\n",
              "      <td id=\"T_a6bbc_row4_col3\" class=\"data row4 col3\" >253</td>\n",
              "      <td id=\"T_a6bbc_row4_col4\" class=\"data row4 col4\" >230</td>\n",
              "      <td id=\"T_a6bbc_row4_col5\" class=\"data row4 col5\" >48</td>\n",
              "      <td id=\"T_a6bbc_row4_col6\" class=\"data row4 col6\" >0</td>\n",
              "      <td id=\"T_a6bbc_row4_col7\" class=\"data row4 col7\" >0</td>\n",
              "      <td id=\"T_a6bbc_row4_col8\" class=\"data row4 col8\" >0</td>\n",
              "      <td id=\"T_a6bbc_row4_col9\" class=\"data row4 col9\" >0</td>\n",
              "      <td id=\"T_a6bbc_row4_col10\" class=\"data row4 col10\" >0</td>\n",
              "      <td id=\"T_a6bbc_row4_col11\" class=\"data row4 col11\" >192</td>\n",
              "      <td id=\"T_a6bbc_row4_col12\" class=\"data row4 col12\" >253</td>\n",
              "      <td id=\"T_a6bbc_row4_col13\" class=\"data row4 col13\" >253</td>\n",
              "      <td id=\"T_a6bbc_row4_col14\" class=\"data row4 col14\" >156</td>\n",
              "      <td id=\"T_a6bbc_row4_col15\" class=\"data row4 col15\" >0</td>\n",
              "      <td id=\"T_a6bbc_row4_col16\" class=\"data row4 col16\" >0</td>\n",
              "      <td id=\"T_a6bbc_row4_col17\" class=\"data row4 col17\" >0</td>\n",
              "    </tr>\n",
              "    <tr>\n",
              "      <th id=\"T_a6bbc_level0_row5\" class=\"row_heading level0 row5\" >5</th>\n",
              "      <td id=\"T_a6bbc_row5_col0\" class=\"data row5 col0\" >0</td>\n",
              "      <td id=\"T_a6bbc_row5_col1\" class=\"data row5 col1\" >3</td>\n",
              "      <td id=\"T_a6bbc_row5_col2\" class=\"data row5 col2\" >20</td>\n",
              "      <td id=\"T_a6bbc_row5_col3\" class=\"data row5 col3\" >20</td>\n",
              "      <td id=\"T_a6bbc_row5_col4\" class=\"data row5 col4\" >15</td>\n",
              "      <td id=\"T_a6bbc_row5_col5\" class=\"data row5 col5\" >0</td>\n",
              "      <td id=\"T_a6bbc_row5_col6\" class=\"data row5 col6\" >0</td>\n",
              "      <td id=\"T_a6bbc_row5_col7\" class=\"data row5 col7\" >0</td>\n",
              "      <td id=\"T_a6bbc_row5_col8\" class=\"data row5 col8\" >0</td>\n",
              "      <td id=\"T_a6bbc_row5_col9\" class=\"data row5 col9\" >0</td>\n",
              "      <td id=\"T_a6bbc_row5_col10\" class=\"data row5 col10\" >43</td>\n",
              "      <td id=\"T_a6bbc_row5_col11\" class=\"data row5 col11\" >224</td>\n",
              "      <td id=\"T_a6bbc_row5_col12\" class=\"data row5 col12\" >253</td>\n",
              "      <td id=\"T_a6bbc_row5_col13\" class=\"data row5 col13\" >245</td>\n",
              "      <td id=\"T_a6bbc_row5_col14\" class=\"data row5 col14\" >74</td>\n",
              "      <td id=\"T_a6bbc_row5_col15\" class=\"data row5 col15\" >0</td>\n",
              "      <td id=\"T_a6bbc_row5_col16\" class=\"data row5 col16\" >0</td>\n",
              "      <td id=\"T_a6bbc_row5_col17\" class=\"data row5 col17\" >0</td>\n",
              "    </tr>\n",
              "    <tr>\n",
              "      <th id=\"T_a6bbc_level0_row6\" class=\"row_heading level0 row6\" >6</th>\n",
              "      <td id=\"T_a6bbc_row6_col0\" class=\"data row6 col0\" >0</td>\n",
              "      <td id=\"T_a6bbc_row6_col1\" class=\"data row6 col1\" >0</td>\n",
              "      <td id=\"T_a6bbc_row6_col2\" class=\"data row6 col2\" >0</td>\n",
              "      <td id=\"T_a6bbc_row6_col3\" class=\"data row6 col3\" >0</td>\n",
              "      <td id=\"T_a6bbc_row6_col4\" class=\"data row6 col4\" >0</td>\n",
              "      <td id=\"T_a6bbc_row6_col5\" class=\"data row6 col5\" >0</td>\n",
              "      <td id=\"T_a6bbc_row6_col6\" class=\"data row6 col6\" >0</td>\n",
              "      <td id=\"T_a6bbc_row6_col7\" class=\"data row6 col7\" >0</td>\n",
              "      <td id=\"T_a6bbc_row6_col8\" class=\"data row6 col8\" >0</td>\n",
              "      <td id=\"T_a6bbc_row6_col9\" class=\"data row6 col9\" >0</td>\n",
              "      <td id=\"T_a6bbc_row6_col10\" class=\"data row6 col10\" >249</td>\n",
              "      <td id=\"T_a6bbc_row6_col11\" class=\"data row6 col11\" >253</td>\n",
              "      <td id=\"T_a6bbc_row6_col12\" class=\"data row6 col12\" >245</td>\n",
              "      <td id=\"T_a6bbc_row6_col13\" class=\"data row6 col13\" >126</td>\n",
              "      <td id=\"T_a6bbc_row6_col14\" class=\"data row6 col14\" >0</td>\n",
              "      <td id=\"T_a6bbc_row6_col15\" class=\"data row6 col15\" >0</td>\n",
              "      <td id=\"T_a6bbc_row6_col16\" class=\"data row6 col16\" >0</td>\n",
              "      <td id=\"T_a6bbc_row6_col17\" class=\"data row6 col17\" >0</td>\n",
              "    </tr>\n",
              "    <tr>\n",
              "      <th id=\"T_a6bbc_level0_row7\" class=\"row_heading level0 row7\" >7</th>\n",
              "      <td id=\"T_a6bbc_row7_col0\" class=\"data row7 col0\" >0</td>\n",
              "      <td id=\"T_a6bbc_row7_col1\" class=\"data row7 col1\" >0</td>\n",
              "      <td id=\"T_a6bbc_row7_col2\" class=\"data row7 col2\" >0</td>\n",
              "      <td id=\"T_a6bbc_row7_col3\" class=\"data row7 col3\" >0</td>\n",
              "      <td id=\"T_a6bbc_row7_col4\" class=\"data row7 col4\" >0</td>\n",
              "      <td id=\"T_a6bbc_row7_col5\" class=\"data row7 col5\" >0</td>\n",
              "      <td id=\"T_a6bbc_row7_col6\" class=\"data row7 col6\" >0</td>\n",
              "      <td id=\"T_a6bbc_row7_col7\" class=\"data row7 col7\" >14</td>\n",
              "      <td id=\"T_a6bbc_row7_col8\" class=\"data row7 col8\" >101</td>\n",
              "      <td id=\"T_a6bbc_row7_col9\" class=\"data row7 col9\" >223</td>\n",
              "      <td id=\"T_a6bbc_row7_col10\" class=\"data row7 col10\" >253</td>\n",
              "      <td id=\"T_a6bbc_row7_col11\" class=\"data row7 col11\" >248</td>\n",
              "      <td id=\"T_a6bbc_row7_col12\" class=\"data row7 col12\" >124</td>\n",
              "      <td id=\"T_a6bbc_row7_col13\" class=\"data row7 col13\" >0</td>\n",
              "      <td id=\"T_a6bbc_row7_col14\" class=\"data row7 col14\" >0</td>\n",
              "      <td id=\"T_a6bbc_row7_col15\" class=\"data row7 col15\" >0</td>\n",
              "      <td id=\"T_a6bbc_row7_col16\" class=\"data row7 col16\" >0</td>\n",
              "      <td id=\"T_a6bbc_row7_col17\" class=\"data row7 col17\" >0</td>\n",
              "    </tr>\n",
              "    <tr>\n",
              "      <th id=\"T_a6bbc_level0_row8\" class=\"row_heading level0 row8\" >8</th>\n",
              "      <td id=\"T_a6bbc_row8_col0\" class=\"data row8 col0\" >0</td>\n",
              "      <td id=\"T_a6bbc_row8_col1\" class=\"data row8 col1\" >0</td>\n",
              "      <td id=\"T_a6bbc_row8_col2\" class=\"data row8 col2\" >0</td>\n",
              "      <td id=\"T_a6bbc_row8_col3\" class=\"data row8 col3\" >0</td>\n",
              "      <td id=\"T_a6bbc_row8_col4\" class=\"data row8 col4\" >0</td>\n",
              "      <td id=\"T_a6bbc_row8_col5\" class=\"data row8 col5\" >11</td>\n",
              "      <td id=\"T_a6bbc_row8_col6\" class=\"data row8 col6\" >166</td>\n",
              "      <td id=\"T_a6bbc_row8_col7\" class=\"data row8 col7\" >239</td>\n",
              "      <td id=\"T_a6bbc_row8_col8\" class=\"data row8 col8\" >253</td>\n",
              "      <td id=\"T_a6bbc_row8_col9\" class=\"data row8 col9\" >253</td>\n",
              "      <td id=\"T_a6bbc_row8_col10\" class=\"data row8 col10\" >253</td>\n",
              "      <td id=\"T_a6bbc_row8_col11\" class=\"data row8 col11\" >187</td>\n",
              "      <td id=\"T_a6bbc_row8_col12\" class=\"data row8 col12\" >30</td>\n",
              "      <td id=\"T_a6bbc_row8_col13\" class=\"data row8 col13\" >0</td>\n",
              "      <td id=\"T_a6bbc_row8_col14\" class=\"data row8 col14\" >0</td>\n",
              "      <td id=\"T_a6bbc_row8_col15\" class=\"data row8 col15\" >0</td>\n",
              "      <td id=\"T_a6bbc_row8_col16\" class=\"data row8 col16\" >0</td>\n",
              "      <td id=\"T_a6bbc_row8_col17\" class=\"data row8 col17\" >0</td>\n",
              "    </tr>\n",
              "    <tr>\n",
              "      <th id=\"T_a6bbc_level0_row9\" class=\"row_heading level0 row9\" >9</th>\n",
              "      <td id=\"T_a6bbc_row9_col0\" class=\"data row9 col0\" >0</td>\n",
              "      <td id=\"T_a6bbc_row9_col1\" class=\"data row9 col1\" >0</td>\n",
              "      <td id=\"T_a6bbc_row9_col2\" class=\"data row9 col2\" >0</td>\n",
              "      <td id=\"T_a6bbc_row9_col3\" class=\"data row9 col3\" >0</td>\n",
              "      <td id=\"T_a6bbc_row9_col4\" class=\"data row9 col4\" >0</td>\n",
              "      <td id=\"T_a6bbc_row9_col5\" class=\"data row9 col5\" >16</td>\n",
              "      <td id=\"T_a6bbc_row9_col6\" class=\"data row9 col6\" >248</td>\n",
              "      <td id=\"T_a6bbc_row9_col7\" class=\"data row9 col7\" >250</td>\n",
              "      <td id=\"T_a6bbc_row9_col8\" class=\"data row9 col8\" >253</td>\n",
              "      <td id=\"T_a6bbc_row9_col9\" class=\"data row9 col9\" >253</td>\n",
              "      <td id=\"T_a6bbc_row9_col10\" class=\"data row9 col10\" >253</td>\n",
              "      <td id=\"T_a6bbc_row9_col11\" class=\"data row9 col11\" >253</td>\n",
              "      <td id=\"T_a6bbc_row9_col12\" class=\"data row9 col12\" >232</td>\n",
              "      <td id=\"T_a6bbc_row9_col13\" class=\"data row9 col13\" >213</td>\n",
              "      <td id=\"T_a6bbc_row9_col14\" class=\"data row9 col14\" >111</td>\n",
              "      <td id=\"T_a6bbc_row9_col15\" class=\"data row9 col15\" >2</td>\n",
              "      <td id=\"T_a6bbc_row9_col16\" class=\"data row9 col16\" >0</td>\n",
              "      <td id=\"T_a6bbc_row9_col17\" class=\"data row9 col17\" >0</td>\n",
              "    </tr>\n",
              "    <tr>\n",
              "      <th id=\"T_a6bbc_level0_row10\" class=\"row_heading level0 row10\" >10</th>\n",
              "      <td id=\"T_a6bbc_row10_col0\" class=\"data row10 col0\" >0</td>\n",
              "      <td id=\"T_a6bbc_row10_col1\" class=\"data row10 col1\" >0</td>\n",
              "      <td id=\"T_a6bbc_row10_col2\" class=\"data row10 col2\" >0</td>\n",
              "      <td id=\"T_a6bbc_row10_col3\" class=\"data row10 col3\" >0</td>\n",
              "      <td id=\"T_a6bbc_row10_col4\" class=\"data row10 col4\" >0</td>\n",
              "      <td id=\"T_a6bbc_row10_col5\" class=\"data row10 col5\" >0</td>\n",
              "      <td id=\"T_a6bbc_row10_col6\" class=\"data row10 col6\" >0</td>\n",
              "      <td id=\"T_a6bbc_row10_col7\" class=\"data row10 col7\" >43</td>\n",
              "      <td id=\"T_a6bbc_row10_col8\" class=\"data row10 col8\" >98</td>\n",
              "      <td id=\"T_a6bbc_row10_col9\" class=\"data row10 col9\" >98</td>\n",
              "      <td id=\"T_a6bbc_row10_col10\" class=\"data row10 col10\" >208</td>\n",
              "      <td id=\"T_a6bbc_row10_col11\" class=\"data row10 col11\" >253</td>\n",
              "      <td id=\"T_a6bbc_row10_col12\" class=\"data row10 col12\" >253</td>\n",
              "      <td id=\"T_a6bbc_row10_col13\" class=\"data row10 col13\" >253</td>\n",
              "      <td id=\"T_a6bbc_row10_col14\" class=\"data row10 col14\" >253</td>\n",
              "      <td id=\"T_a6bbc_row10_col15\" class=\"data row10 col15\" >187</td>\n",
              "      <td id=\"T_a6bbc_row10_col16\" class=\"data row10 col16\" >22</td>\n",
              "      <td id=\"T_a6bbc_row10_col17\" class=\"data row10 col17\" >0</td>\n",
              "    </tr>\n",
              "  </tbody>\n",
              "</table>\n"
            ]
          },
          "metadata": {},
          "execution_count": 16
        }
      ]
    },
    {
      "cell_type": "markdown",
      "source": [
        "#### pixel similarity"
      ],
      "metadata": {
        "id": "E5h8UuQAVW_t"
      }
    },
    {
      "cell_type": "code",
      "source": [
        "seven_tensors=[tensor(Image.open(o)) for o in sevens]\n",
        "three_tensors=[tensor(Image.open(o)) for o in threes]\n",
        "len(three_tensors), len(seven_tensors)"
      ],
      "metadata": {
        "colab": {
          "base_uri": "https://localhost:8080/"
        },
        "id": "Efnkpq7nVaXk",
        "outputId": "bfb016c7-b6c6-4b64-9eeb-ddf01dc0a0dc"
      },
      "execution_count": 18,
      "outputs": [
        {
          "output_type": "execute_result",
          "data": {
            "text/plain": [
              "(6131, 6265)"
            ]
          },
          "metadata": {},
          "execution_count": 18
        }
      ]
    },
    {
      "cell_type": "code",
      "source": [
        "show_image(three_tensors[1]); #fast-ai's function"
      ],
      "metadata": {
        "colab": {
          "base_uri": "https://localhost:8080/",
          "height": 114
        },
        "id": "VxMqd1qcWgVO",
        "outputId": "2fc435a3-4f7a-4a1d-8c68-4052f7702c89"
      },
      "execution_count": 19,
      "outputs": [
        {
          "output_type": "display_data",
          "data": {
            "text/plain": [
              "<Figure size 100x100 with 1 Axes>"
            ],
            "image/png": "[encoded data removed]"
          },
          "metadata": {}
        }
      ]
    }
  ]
}